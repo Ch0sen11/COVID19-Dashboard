{
 "cells": [
  {
   "cell_type": "markdown",
   "metadata": {},
   "source": [
    "[DIY Disease Tracking Dashboard Kit](https://github.com/fsmeraldi/diy-covid19dash) (C) Fabrizio Smeraldi, 2020,2024 ([f.smeraldi@qmul.ac.uk](mailto:f.smeraldi@qmul.ac.uk) - [web](http://www.eecs.qmul.ac.uk/~fabri/)). This notebook is released under the [GNU GPLv3.0 or later](https://www.gnu.org/licenses/)."
   ]
  },
  {
   "cell_type": "markdown",
   "metadata": {},
   "source": [
    "# DIY Disease Tracking Dashboard"
   ]
  },
  {
   "cell_type": "markdown",
   "metadata": {},
   "source": [
    "This is a template for your DIY Disease Tracking Dashboard, to which you can add the code you developed in the previous notebooks. The dashboard will be displayed using [voila](https://voila.readthedocs.io/en/stable/index.html), a Python dashboarding tool that converts notebooks to standalone dashboards. Contrary to the other libraries we have seen, the ```voila``` package must be installed using *pip* or *conda* but it does not need to be imported - it rather acts at the level of the notebook server. Package ```voila``` is already installed on the QMUL JupyterHub as well as in the Binder - to install it locally, follow the [instructions](https://voila.readthedocs.io/en/stable/install.html) online.\n",
    "\n",
    "Broadly speaking, Voila acts by **running all the cells in your notebook** when the dashboard is first loaded; it then hides all code cells and displays all markdown cells and any outputs, including widgets. However, the code is still there in the background and handles any interaction with the widgets. To view this dashboard template rendered in Voila click [here](https://mybinder.org/v2/gh/fsmeraldi/diy-covid19dash/main?urlpath=%2Fvoila%2Frender%2FDashboard.ipynb)."
   ]
  },
  {
   "cell_type": "code",
   "execution_count": 1,
   "metadata": {},
   "outputs": [],
   "source": [
    "from IPython.display import clear_output\n",
    "import ipywidgets as wdg\n",
    "import pandas as pd\n",
    "import numpy as np\n",
    "import matplotlib.pyplot as plt\n",
    "import requests\n",
    "import time\n",
    "import json\n",
    "import os"
   ]
  },
  {
   "cell_type": "code",
   "execution_count": 2,
   "metadata": {},
   "outputs": [],
   "source": [
    "%matplotlib inline\n",
    "# make figures larger\n",
    "plt.rcParams['figure.dpi'] = 100"
   ]
  },
  {
   "cell_type": "markdown",
   "metadata": {},
   "source": [
    "## Load initial data from disk\n",
    "\n",
    "You should include \"canned\" data in ```.json``` files along with your dashboard. When the dashboard starts, it should load that data and assign it as a dictionary to the ```jsondata``` variable (the code below will be hidden when the dashboard is rendered by Voila)."
   ]
  },
  {
   "cell_type": "code",
   "execution_count": 3,
   "metadata": {},
   "outputs": [
    {
     "name": "stdout",
     "output_type": "stream",
     "text": [
      "vaccinations_autumn22.json loaded successfully.\n"
     ]
    }
   ],
   "source": [
    "# Load JSON files and store the raw data in some variable. Edit as appropriate\n",
    "jsondata = {}\n",
    "# List of JSON files to load\n",
    "json_files = [\"vaccinations_autumn22.json\"]\n",
    "\n",
    "# Load each JSON file into the dictionary\n",
    "for file_name in json_files:\n",
    "    if os.path.exists(file_name):  # Check if the file exists\n",
    "        try:\n",
    "            with open(file_name, 'r') as file:\n",
    "                jsondata[file_name] = json.load(file)\n",
    "            print(f\"{file_name} loaded successfully.\")\n",
    "        except json.JSONDecodeError:\n",
    "            print(f\"Error: {file_name} contains invalid JSON.\")\n",
    "    else:\n",
    "        print(f\"Error: {file_name} not found.\")\n",
    "        "
   ]
  },
  {
   "cell_type": "code",
   "execution_count": 4,
   "metadata": {},
   "outputs": [],
   "source": [
    "with open(\"vaccinations_autumn22.json\", \"r\") as f:\n",
    "    rawdata = json.load(f)"
   ]
  },
  {
   "cell_type": "markdown",
   "metadata": {},
   "source": [
    "## Wrangle the data\n",
    "\n",
    "The dashboard should contain the logic to wrangle the raw data into a ```DataFrame``` (or more than one, as required) that will be used for plotting. The wrangling code should be put into a function and called on the data from the JSON file (we'll need to call it again on any data downloaded from the API).  In this template, we just pretend we are wrangling ```rawdata``` and instead generate a dataframe with some random data"
   ]
  },
  {
   "cell_type": "code",
   "execution_count": 5,
   "metadata": {},
   "outputs": [
    {
     "name": "stdout",
     "output_type": "stream",
     "text": [
      "Fetched 5076 records from API.\n",
      "Raw API Data Sample: [{'theme': 'infectious_disease', 'sub_theme': 'respiratory', 'topic': 'COVID-19', 'geography_type': 'Nation', 'geography': 'England', 'geography_code': 'E92000001', 'metric': 'COVID-19_vaccinations_autumn22_dosesByDay', 'metric_group': 'vaccinations', 'stratum': 'default', 'sex': 'f', 'age': '50-54', 'year': 2022, 'month': 9, 'epiweek': 35, 'date': '2022-09-01', 'metric_value': 109.0, 'in_reporting_delay_period': False}, {'theme': 'infectious_disease', 'sub_theme': 'respiratory', 'topic': 'COVID-19', 'geography_type': 'Nation', 'geography': 'England', 'geography_code': 'E92000001', 'metric': 'COVID-19_vaccinations_autumn22_dosesByDay', 'metric_group': 'vaccinations', 'stratum': 'default', 'sex': 'm', 'age': '75-79', 'year': 2022, 'month': 9, 'epiweek': 35, 'date': '2022-09-01', 'metric_value': 115.0, 'in_reporting_delay_period': False}, {'theme': 'infectious_disease', 'sub_theme': 'respiratory', 'topic': 'COVID-19', 'geography_type': 'Nation', 'geography': 'England', 'geography_code': 'E92000001', 'metric': 'COVID-19_vaccinations_autumn22_dosesByDay', 'metric_group': 'vaccinations', 'stratum': 'default', 'sex': 'm', 'age': '60-64', 'year': 2022, 'month': 9, 'epiweek': 35, 'date': '2022-09-01', 'metric_value': 94.0, 'in_reporting_delay_period': False}, {'theme': 'infectious_disease', 'sub_theme': 'respiratory', 'topic': 'COVID-19', 'geography_type': 'Nation', 'geography': 'England', 'geography_code': 'E92000001', 'metric': 'COVID-19_vaccinations_autumn22_dosesByDay', 'metric_group': 'vaccinations', 'stratum': 'default', 'sex': 'm', 'age': '55-59', 'year': 2022, 'month': 9, 'epiweek': 35, 'date': '2022-09-01', 'metric_value': 100.0, 'in_reporting_delay_period': False}, {'theme': 'infectious_disease', 'sub_theme': 'respiratory', 'topic': 'COVID-19', 'geography_type': 'Nation', 'geography': 'England', 'geography_code': 'E92000001', 'metric': 'COVID-19_vaccinations_autumn22_dosesByDay', 'metric_group': 'vaccinations', 'stratum': 'default', 'sex': 'f', 'age': '60-64', 'year': 2022, 'month': 9, 'epiweek': 35, 'date': '2022-09-01', 'metric_value': 111.0, 'in_reporting_delay_period': False}]\n",
      "Number of records in raw data: 5076\n",
      "Filtered DataFrame contains 2184 records.\n",
      "Cleaned DataFrame:\n",
      "                theme    sub_theme     topic geography_type geography  \\\n",
      "0  infectious_disease  respiratory  COVID-19         Nation   England   \n",
      "1  infectious_disease  respiratory  COVID-19         Nation   England   \n",
      "2  infectious_disease  respiratory  COVID-19         Nation   England   \n",
      "3  infectious_disease  respiratory  COVID-19         Nation   England   \n",
      "4  infectious_disease  respiratory  COVID-19         Nation   England   \n",
      "\n",
      "  geography_code                                     metric  metric_group  \\\n",
      "0      E92000001  COVID-19_vaccinations_autumn22_dosesByDay  vaccinations   \n",
      "1      E92000001  COVID-19_vaccinations_autumn22_dosesByDay  vaccinations   \n",
      "2      E92000001  COVID-19_vaccinations_autumn22_dosesByDay  vaccinations   \n",
      "3      E92000001  COVID-19_vaccinations_autumn22_dosesByDay  vaccinations   \n",
      "4      E92000001  COVID-19_vaccinations_autumn22_dosesByDay  vaccinations   \n",
      "\n",
      "   stratum sex    age  year  month  epiweek       date  metric_value  \\\n",
      "0  default   f  50-54  2022      9       35 2022-09-01         109.0   \n",
      "1  default   m  75-79  2022      9       35 2022-09-01         115.0   \n",
      "2  default   m  60-64  2022      9       35 2022-09-01          94.0   \n",
      "3  default   m  55-59  2022      9       35 2022-09-01         100.0   \n",
      "4  default   f  60-64  2022      9       35 2022-09-01         111.0   \n",
      "\n",
      "   in_reporting_delay_period  \n",
      "0                      False  \n",
      "1                      False  \n",
      "2                      False  \n",
      "3                      False  \n",
      "4                      False  \n",
      "Data saved to vaccination_data.csv\n"
     ]
    }
   ],
   "source": [
    "\n",
    "# Step 1: Define the APIwrapper class\n",
    "class APIwrapper:\n",
    "    _access_point = \"https://api.ukhsa-dashboard.data.gov.uk\"\n",
    "    _last_access = 0.0\n",
    "\n",
    "    def __init__(self, theme, sub_theme, topic, geography_type, geography, metric):\n",
    "        \"\"\" Initialize the APIwrapper object. \"\"\"\n",
    "        url_path = (\n",
    "            f\"/themes/{theme}/sub_themes/{sub_theme}/topics/{topic}/geography_types/\"\n",
    "            f\"{geography_type}/geographies/{geography}/metrics/{metric}\"\n",
    "        )\n",
    "        self._start_url = APIwrapper._access_point + url_path\n",
    "        self._filters = None\n",
    "        self._page_size = -1\n",
    "        self.count = None\n",
    "\n",
    "    def get_page(self, filters={}, page_size=5):\n",
    "        \"\"\" Fetch a single page of data from the API. \"\"\"\n",
    "        if page_size > 365:\n",
    "            raise ValueError(\"Max supported page size is 365\")\n",
    "\n",
    "        if filters != self._filters or page_size != self._page_size:\n",
    "            self._filters = filters\n",
    "            self._page_size = page_size\n",
    "            self._next_url = self._start_url\n",
    "\n",
    "        if self._next_url is None:\n",
    "            return []\n",
    "\n",
    "        curr_time = time.time()\n",
    "        deltat = curr_time - APIwrapper._last_access\n",
    "        if deltat < 0.33:\n",
    "            time.sleep(0.33 - deltat)\n",
    "        APIwrapper._last_access = curr_time\n",
    "\n",
    "        parameters = {x: y for x, y in filters.items() if y is not None}\n",
    "        parameters[\"page_size\"] = page_size\n",
    "        response = requests.get(self._next_url, params=parameters).json()\n",
    "        self._next_url = response.get(\"next\")\n",
    "        self.count = response.get(\"count\")\n",
    "        return response.get(\"results\", [])\n",
    "\n",
    "    def get_all_pages(self, filters={}, page_size=365):\n",
    "        \"\"\" Fetch all pages of data from the API. \"\"\"\n",
    "        data = []\n",
    "        while True:\n",
    "            next_page = self.get_page(filters, page_size)\n",
    "            if not next_page:\n",
    "                break\n",
    "            data.extend(next_page)\n",
    "        return data\n",
    "\n",
    "# Step 2: Fetch data\n",
    "def fetch_data():\n",
    "    structure = {\n",
    "        \"theme\": \"infectious_disease\",\n",
    "        \"sub_theme\": \"respiratory\",\n",
    "        \"topic\": \"COVID-19\",\n",
    "        \"geography_type\": \"Nation\",\n",
    "        \"geography\": \"England\",\n",
    "        \"metric\": \"COVID-19_vaccinations_autumn22_dosesByDay\",\n",
    "    }\n",
    "    api = APIwrapper(**structure)\n",
    "    data = api.get_all_pages()\n",
    "    print(f\"Fetched {len(data)} records from API.\")\n",
    "    print(\"Raw API Data Sample:\", data[:5])  # Print the first 5 records\n",
    "    return data\n",
    "\n",
    "# Step 3: Clean data\n",
    "def wrangle_data(rawdata):\n",
    "    \"\"\"\n",
    "    Processes the raw API data into a cleaned Pandas DataFrame.\n",
    "    \"\"\"\n",
    "    # Directly process if rawdata is a list\n",
    "    if isinstance(rawdata, list) and len(rawdata) > 0:\n",
    "        print(f\"Number of records in raw data: {len(rawdata)}\")\n",
    "        df = pd.DataFrame(rawdata)\n",
    "\n",
    "        # Ensure essential columns are present\n",
    "        required_columns = [\"date\", \"sex\", \"age\", \"metric_value\"]\n",
    "        for col in required_columns:\n",
    "            if col not in df.columns:\n",
    "                print(f\"Column '{col}' missing, adding as empty.\")\n",
    "                df[col] = None\n",
    "\n",
    "        # Convert date column to datetime and sort by date\n",
    "        df[\"date\"] = pd.to_datetime(df[\"date\"], errors=\"coerce\")\n",
    "        df.dropna(subset=[\"date\"], inplace=True)\n",
    "        df[\"metric_value\"] = pd.to_numeric(df[\"metric_value\"], errors=\"coerce\").fillna(0)\n",
    "\n",
    "        # Filter for autumn 2022\n",
    "        df = df[(df[\"date\"] >= \"2022-09-01\") & (df[\"date\"] <= \"2022-11-30\")]\n",
    "\n",
    "        print(f\"Filtered DataFrame contains {len(df)} records.\")\n",
    "        return df\n",
    "    else:\n",
    "        print(\"Invalid or empty raw data provided.\")\n",
    "        return pd.DataFrame()\n",
    "\n",
    "\n",
    "# Step 4: Save and analyze data\n",
    "def save_data(df, filename=\"vaccination_data.csv\"):\n",
    "    \"\"\"Save the cleaned data to a CSV file.\"\"\"\n",
    "    df.to_csv(filename, index=False)\n",
    "    print(f\"Data saved to {filename}\")\n",
    "\n",
    "# Entry point for the script\n",
    "if __name__ == \"__main__\":\n",
    "    rawdata = fetch_data()\n",
    "    df = wrangle_data(rawdata)\n",
    "    print(\"Cleaned DataFrame:\")\n",
    "    print(df.head())\n",
    "\n",
    "    # Save to CSV for further analysis\n",
    "    save_data(df)\n"
   ]
  },
  {
   "cell_type": "markdown",
   "metadata": {},
   "source": [
    "## Download current data"
   ]
  },
  {
   "cell_type": "markdown",
   "metadata": {},
   "source": [
    "Give your users an option to refresh the dataset - a \"refresh\" button will do. The button callback should\n",
    "* call the code that accesses the API and download some fresh raw data;\n",
    "* wrangle that data into a dataframe and update the corresponding (global) variable for plotting (here, ```df```);\n",
    "* optionally: force a redraw of the graph and give the user some fredback.\n",
    "\n",
    "Once you get it to work, you may want to wrap your API call inside an exception handler, so that the user is informed, the \"canned\" data are not overwritten and nothing crashes if for any reason the server cannot be reached or data are not available.\n",
    "\n",
    "After you refresh the data, graphs will not update until the user interacts with a widget. You can trick ```iPywidgets``` into redrawing the graph by simulating interaction, as in the ```refresh_graph``` function we define in the Graph and Analysis section below.\n",
    "\n",
    "In this example, clicking on the button below just generates some more random data and refreshes the graph. The button should read *Fetch Data*. If you see anything else, take a deep breath :)"
   ]
  },
  {
   "cell_type": "code",
   "execution_count": 7,
   "metadata": {},
   "outputs": [
    {
     "data": {
      "application/vnd.jupyter.widget-view+json": {
       "model_id": "f83f1b1c29d0462788bbcd477407ea61",
       "version_major": 2,
       "version_minor": 0
      },
      "text/plain": [
       "Button(button_style='info', description='Fetch Data', icon='download', style=ButtonStyle(), tooltip='Click to …"
      ]
     },
     "metadata": {},
     "output_type": "display_data"
    }
   ],
   "source": [
    "# Function to access the API\n",
    "def access_api():\n",
    "    \"\"\"\n",
    "    Accesses the UKHSA API. Returns data as a like-for-like replacement for the \"canned\" data loaded from the JSON file.\n",
    "    \"\"\"\n",
    "    # Define the API URL\n",
    "    api_url = \"https://api.ukhsa-dashboard.data.gov.uk/themes/infectious_disease/sub_themes/respiratory/topics/COVID-19/geography_types/Nation/geographies/England/metrics/COVID-19_vaccinations_autumn22_dosesByDay\"\n",
    "\n",
    "    try:\n",
    "        response = requests.get(api_url)\n",
    "        response.raise_for_status()  # Raise an HTTP error if one occurred\n",
    "        data = response.json()  # Parse JSON response\n",
    "        print(\"API data fetched successfully.\")\n",
    "        return data  # Return the raw API data\n",
    "    except requests.exceptions.RequestException as e:\n",
    "        print(f\"Error accessing API: {e}\")\n",
    "        return {}  # Return empty data in case of an error\n",
    "\n",
    "\n",
    "\n",
    "\n",
    "\n",
    "# Callback for the API button\n",
    "def api_button_callback(button):\n",
    "    \"\"\"\n",
    "    Button callback - fetches data from the API, processes it using APIwrapper, and updates the global dataframe.\n",
    "    \"\"\"\n",
    "    global df  # Use the global dataframe for updates\n",
    "\n",
    "    # Provide feedback during API access\n",
    "    button.icon = \"spinner\"\n",
    "    button.button_style = \"warning\"\n",
    "    button.description = \"Fetching...\"\n",
    "    button.disabled = True\n",
    "\n",
    "    # Fetch raw data from the API\n",
    "    apidata = access_api()\n",
    "\n",
    "    # Process raw data through APIwrapper for additional handling\n",
    "    if apidata and \"results\" in apidata:\n",
    "        print(\"Processing data through APIwrapper...\")\n",
    "        \n",
    "        # Define a structure for APIwrapper\n",
    "        structure = {\n",
    "            \"theme\": \"infectious_disease\",\n",
    "            \"sub_theme\": \"respiratory\",\n",
    "            \"topic\": \"COVID-19\",\n",
    "            \"geography_type\": \"Nation\",\n",
    "            \"geography\": \"England\",\n",
    "            \"metric\": \"COVID-19_vaccinations_autumn22_dosesByDay\",\n",
    "        }\n",
    "        api_wrapper_instance = APIwrapper(**structure)\n",
    "\n",
    "        # Mock APIwrapper by feeding the data directly\n",
    "        processed_data = api_wrapper_instance.get_all_pages(filters={}, page_size=365)\n",
    "\n",
    "        # Wrangle the processed data into a DataFrame\n",
    "        if processed_data:\n",
    "            df = wrangle_data(processed_data)\n",
    "            print(f\"Data wrangled successfully. {len(df)} records available.\")\n",
    "            refresh_graph()  # Refresh the graph\n",
    "            button.icon = \"check\"\n",
    "            button.button_style = \"success\"\n",
    "            button.description = \"Updated\"\n",
    "        else:\n",
    "            print(\"Processing resulted in no data.\")\n",
    "            button.icon = \"times\"\n",
    "            button.button_style = \"danger\"\n",
    "            button.description = \"Empty Data\"\n",
    "    else:\n",
    "        print(\"Failed to fetch valid data from the API.\")\n",
    "        button.icon = \"times\"\n",
    "        button.button_style = \"danger\"\n",
    "        button.description = \"API Error\"\n",
    "\n",
    "    # Re-enable the button for future clicks\n",
    "    button.disabled = False\n",
    "\n",
    "\n",
    "\n",
    "# Refresh the graph function\n",
    "def refresh_graph():\n",
    "    \"\"\"\n",
    "    Force a graph redraw based on the latest data in the global DataFrame.\n",
    "    \"\"\"\n",
    "    global group_selector\n",
    "    if not df.empty:\n",
    "        current = group_selector.value\n",
    "        if current == \"sex\":\n",
    "            group_selector.value = \"age\"\n",
    "        else:\n",
    "            group_selector.value = \"sex\"\n",
    "        group_selector.value = current  # Reset to original to force re-draw\n",
    "    else:\n",
    "        print(\"The DataFrame is empty. No graph to refresh.\")\n",
    "\n",
    "\n",
    "# Button widget to trigger API calls\n",
    "apibutton = wdg.Button(\n",
    "    description=\"Fetch Data\",  # Change the description to something informative\n",
    "    disabled=False,\n",
    "    button_style=\"info\",  # Options: 'success', 'info', 'warning', 'danger', or ''\n",
    "    tooltip=\"Click to fetch the latest data from the API\",\n",
    "    icon=\"download\",  # FontAwesome icon name\n",
    ")\n",
    "\n",
    "# Register the callback function with the button\n",
    "apibutton.on_click(api_button_callback)\n",
    "\n",
    "# Display the button in the dashboard\n",
    "display(apibutton)\n",
    "\n",
    "# Initialize the global dataframe\n",
    "df = pd.DataFrame()  # Start with an empty DataFrame\n"
   ]
  },
  {
   "cell_type": "markdown",
   "metadata": {},
   "source": [
    "## Graphs and Analysis"
   ]
  },
  {
   "cell_type": "markdown",
   "metadata": {},
   "source": [
    "Include at least one graph with interactive controls, as well as some instructions for the user and/or comments on what the graph represents and how it should be explored (this example shows two random walks)"
   ]
  },
  {
   "cell_type": "code",
   "execution_count": 8,
   "metadata": {},
   "outputs": [
    {
     "data": {
      "application/vnd.jupyter.widget-view+json": {
       "model_id": "b5183fc630fb4529bf304f091640fc89",
       "version_major": 2,
       "version_minor": 0
      },
      "text/plain": [
       "Dropdown(description='Group by:', options=('sex', 'age'), value='sex')"
      ]
     },
     "metadata": {},
     "output_type": "display_data"
    },
    {
     "data": {
      "application/vnd.jupyter.widget-view+json": {
       "model_id": "42099676dba647f8b97e36037632f1d6",
       "version_major": 2,
       "version_minor": 0
      },
      "text/plain": [
       "Output()"
      ]
     },
     "metadata": {},
     "output_type": "display_data"
    }
   ],
   "source": [
    "from IPython.display import display\n",
    "\n",
    "def plot_vaccination_data(group):\n",
    "    \"\"\"\n",
    "    Plot the vaccination data based on the user-selected group (e.g., sex or age).\n",
    "    \"\"\"\n",
    "    global df  # Use the global DataFrame\n",
    "\n",
    "    if group in df.columns:\n",
    "        # Group data by the selected column and date, then sum the values\n",
    "        grouped_data = df.groupby([\"date\", group])[\"metric_value\"].sum().unstack()\n",
    "\n",
    "        # Plotting\n",
    "        grouped_data.plot(kind=\"line\", figsize=(12, 6))\n",
    "        plt.title(f\"COVID-19 Vaccinations by {group.capitalize()}\", fontsize=16)\n",
    "        plt.xlabel(\"Date\", fontsize=12)\n",
    "        plt.ylabel(\"Number of Vaccinations\", fontsize=12)\n",
    "        plt.legend(title=group.capitalize(), fontsize=10)\n",
    "        plt.grid(True)\n",
    "        plt.tight_layout()\n",
    "        plt.show()\n",
    "    else:\n",
    "        print(f\"Group '{group}' not found in data! Available groups: {df.columns.tolist()}\")\n",
    "\n",
    "\n",
    "# Creating drop-down menus\n",
    "group_selector = wdg.Dropdown(\n",
    "    options=['sex', 'age'],  \n",
    "    value='sex',  \n",
    "    description='Group by:',\n",
    "    disabled=False,\n",
    ")\n",
    "\n",
    "\n",
    "def refresh_graph():\n",
    "    \"\"\"\n",
    "    Force a graph redraw based on the selected group.\n",
    "    \"\"\"\n",
    "    current = group_selector.value\n",
    "    if current == 'sex':\n",
    "        group_selector.value = 'age'\n",
    "    else:\n",
    "        group_selector.value = 'sex'\n",
    "    group_selector.value = current  \n",
    "\n",
    "interactive_plot = wdg.interactive_output(plot_vaccination_data, {'group': group_selector})\n",
    "\n",
    "display(group_selector, interactive_plot)\n"
   ]
  },
  {
   "cell_type": "markdown",
   "metadata": {},
   "source": [
    "## Deploying the dashboard\n",
    "\n",
    "Once your code is ready and you are satisfied with the appearance of the graphs, replace all the text boxes above with the explanations you would like a dashboard user to see. The next step is deploying the dashboard online - there are several [options](https://voila.readthedocs.io/en/stable/deploy.html) for this, we suggest deploying as a [Binder](https://mybinder.org/). This is basically the same technique that has been used to package this tutorial and to deploy this template dashboard. The instructions may seem a bit involved, but the actual steps are surprisingly easy - we will be going through them together during a live session. You will need an account on [GitHub](https://github.com/) for this - if you don't have one already, now it's the time to create it. "
   ]
  },
  {
   "cell_type": "markdown",
   "metadata": {},
   "source": [
    "**Author and License** Remember that if you deploy your dashboard as a Binder it will be publicly accessible. Change the copyright notice and take credit for your work! Also acknowledge your sources and the conditions of the license by including this notice: \"Based on UK Government [data](https://ukhsa-dashboard.data.gov.uk/) published by the [UK Health Security Agency](https://www.gov.uk/government/organisations/uk-health-security-agency) and on the [DIY Disease Tracking Dashboard Kit](https://github.com/fsmeraldi/diy-covid19dash) by Fabrizio Smeraldi. Released under the [GNU GPLv3.0 or later](https://www.gnu.org/licenses/).\""
   ]
  },
  {
   "cell_type": "code",
   "execution_count": null,
   "metadata": {},
   "outputs": [],
   "source": []
  }
 ],
 "metadata": {
  "kernelspec": {
   "display_name": "Python 3 (ipykernel)",
   "language": "python",
   "name": "python3"
  },
  "language_info": {
   "codemirror_mode": {
    "name": "ipython",
    "version": 3
   },
   "file_extension": ".py",
   "mimetype": "text/x-python",
   "name": "python",
   "nbconvert_exporter": "python",
   "pygments_lexer": "ipython3",
   "version": "3.11.9"
  }
 },
 "nbformat": 4,
 "nbformat_minor": 4
}
